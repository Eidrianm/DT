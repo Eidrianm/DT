{
 "cells": [
  {
   "cell_type": "markdown",
   "metadata": {
    "deletable": false,
    "editable": false,
    "etc_identifier": "653a3605-5bda-4e1f-beef-04a0173d3f41",
    "nbgrader": {
     "cell_type": "markdown",
     "checksum": "48770f8b5f5d3062d3badd51fcafc401",
     "grade": false,
     "grade_id": "cell-a6c4f74309fc2379",
     "locked": true,
     "schema_version": 3,
     "solution": false
    }
   },
   "source": [
    "# Assignment 4\n",
    "## Description\n",
    "In this assignment you must read in a file of metropolitan regions and associated sports teams from [assets/wikipedia_data.html](assets/wikipedia_data.html) and answer some questions about each metropolitan region. Each of these regions may have one or more teams from the \"Big 4\": NFL (football, in [assets/nfl.csv](assets/nfl.csv)), MLB (baseball, in [assets/mlb.csv](assets/mlb.csv)), NBA (basketball, in [assets/nba.csv](assets/nba.csv) or NHL (hockey, in [assets/nhl.csv](assets/nhl.csv)). Please keep in mind that all questions are from the perspective of the metropolitan region, and that this file is the \"source of authority\" for the location of a given sports team. Thus teams which are commonly known by a different area (e.g. \"Oakland Raiders\") need to be mapped into the metropolitan region given (e.g. San Francisco Bay Area). This will require some human data understanding outside of the data you've been given (e.g. you will have to hand-code some names, and might need to google to find out where teams are)!\n",
    "\n",
    "For each sport I would like you to answer the question: **what is the win/loss ratio's correlation with the population of the city it is in?** Win/Loss ratio refers to the number of wins over the number of wins plus the number of losses. Remember that to calculate the correlation with [`pearsonr`](https://docs.scipy.org/doc/scipy/reference/generated/scipy.stats.pearsonr.html), so you are going to send in two ordered lists of values, the populations from the wikipedia_data.html file and the win/loss ratio for a given sport in the same order. Average the win/loss ratios for those cities which have multiple teams of a single sport. Each sport is worth an equal amount in this assignment (20%\\*4=80%) of the grade for this assignment. You should only use data **from year 2018** for your analysis -- this is important!\n",
    "\n",
    "## Notes\n",
    "\n",
    "1. Do not include data about the MLS or CFL in any of the work you are doing, we're only interested in the Big 4 in this assignment.\n",
    "2. I highly suggest that you first tackle the four correlation questions in order, as they are all similar and worth the majority of grades for this assignment. This is by design!\n",
    "3. It's fair game to talk with peers about high level strategy as well as the relationship between metropolitan areas and sports teams. However, do not post code solving aspects of the assignment (including such as dictionaries mapping areas to teams, or regexes which will clean up names).\n",
    "4. There may be more teams than the assert statements test, remember to collapse multiple teams in one city into a single value!"
   ]
  },
  {
   "cell_type": "markdown",
   "metadata": {
    "deletable": false,
    "editable": false,
    "jp-MarkdownHeadingCollapsed": true,
    "nbgrader": {
     "cell_type": "markdown",
     "checksum": "369ff9ecf0ee04640574205cbc697f94",
     "grade": false,
     "grade_id": "cell-712b2b5da63d4505",
     "locked": true,
     "schema_version": 3,
     "solution": false
    },
    "tags": []
   },
   "source": [
    "## Question 1\n",
    "For this question, calculate the win/loss ratio's correlation with the population of the city it is in for the **NHL** using **2018** data."
   ]
  },
  {
   "cell_type": "code",
   "execution_count": 1,
   "metadata": {},
   "outputs": [],
   "source": [
    "%%capture\n",
    "#RUN FIRST, installs a missing library\n",
    "import sys\n",
    "!{sys.executable} -m pip install lxml==4.4.1"
   ]
  },
  {
   "cell_type": "code",
   "execution_count": 2,
   "metadata": {
    "deletable": false,
    "nbgrader": {
     "cell_type": "code",
     "checksum": "1cac4803b02502929f5b1612d48db2b5",
     "grade": false,
     "grade_id": "cell-69b16e4386e58030",
     "locked": false,
     "schema_version": 3,
     "solution": true
    }
   },
   "outputs": [
    {
     "data": {
      "text/plain": [
       "(0.7752196800466112, 1.2711644398637227e-06)"
      ]
     },
     "execution_count": 2,
     "metadata": {},
     "output_type": "execute_result"
    }
   ],
   "source": [
    "import pandas as pd\n",
    "import numpy as np\n",
    "import scipy.stats as stats\n",
    "import re\n",
    "\n",
    "\n",
    "\n",
    "def nhl_correlation(): \n",
    "    # YOUR CODE HERE\n",
    "    nhl_df=pd.read_csv(\"assets/nhl.csv\")\n",
    "    cities=pd.read_html(\"assets/wikipedia_data.html\")[1]\n",
    "    cities=cities.iloc[:-1,[0,3,5,6,7,8]]\n",
    "    regex = re.compile(r'\\w+$|\\w+\\*$')\n",
    "    y = re.compile(r'^\\w+')\n",
    "    w = re.compile(r'\\[\\w+\\s\\w+\\]|\\W')\n",
    "    nh = cities.iloc[:-1,[0,1,5]]\n",
    "    nh= nh.sort_values(\"NHL\")\n",
    "    nh = nh.rename(columns={'NHL':'team'})\n",
    "    nh[\"team\"] = nh[\"team\"].replace({w:''}, regex=True)\n",
    "    nh_1 = nhl_df[(nhl_df['year']) == 2018]\n",
    "    nh.drop(nh[(nh['team'] == \"\")].index, inplace=True)\n",
    "    nh_1[\"team\"] = nh_1[\"team\"].replace({'\\*':''}, regex=True)\n",
    "    nh_1[\"team\"] = nh_1[\"team\"].apply(lambda x: regex.findall(x)[0])\n",
    "    nh_1[\"team\"] = nh_1[\"team\"].replace({'Jackets':'BlueJackets','Leafs':'MapleLeafs','Knights':'GoldenKnights','Ducks':'KingsDucks','Wings':'RedWings'}, regex=True)\n",
    "    nh[\"team\"] = nh[\"team\"].apply(lambda x: y.findall(x)[0])\n",
    "    WR = pd.pivot_table(nh_1,index=[\"team\"],values=['W', 'L' ],aggfunc=np.sum)\n",
    "    WR = WR.sort_values('team')\n",
    "    WR = WR.drop(['Division'], axis=0)\n",
    "    WR = WR.astype({'W': 'int32', 'L': 'int32'})\n",
    "    WR[\"WinRate\"] = WR['W'] / (WR['W']+WR['L'])\n",
    "    nh_1.set_index(\"team\", drop=True, append=False, inplace=True, verify_integrity=False)\n",
    "    nh.set_index(\"team\",drop=True, append=False, inplace=True, verify_integrity=False)\n",
    "    f = pd.merge(WR, nh, on='team', how='outer')\n",
    "    f= f.rename(columns={'Metropolitan area':'local','Population (2016 est.)[8]':'population'})\n",
    "    Vn = [f.loc[['Devils','Islanders','Rangers']]['L'].sum(),f.loc[['Devils','Islanders','Rangers']]['W'].sum(),\n",
    "          f.loc[['Devils','Islanders','Rangers']]['WinRate'].sum(),f.loc[['RangersIslandersDevils']]['local'],\n",
    "          f.loc[['RangersIslandersDevils']]['population']]\n",
    "    f.loc[['RangersIslandersDevils']]=Vn\n",
    "    Vla =[f.loc[['Kings','KingsDucks']]['L'].sum(),f.loc[['Kings','KingsDucks']]['W'].sum(),\n",
    "          f.loc[['Kings','KingsDucks']]['WinRate'].sum(),f.loc[['KingsDucks']]['local'],\n",
    "          f.loc[['KingsDucks']]['population']]\n",
    "    f.loc[['KingsDucks']]=Vla\n",
    "    f = f.dropna()\n",
    "    f = f.astype({'population':'int32'})\n",
    "    a = f['population']\n",
    "    b = f['WinRate']\n",
    "    \n",
    "    population_by_region = a # pass in metropolitan area population from cities\n",
    "    win_loss_by_region = b # pass in win/loss ratio from nhl_df in the same order as cities[\"Metropolitan area\"]\n",
    "\n",
    "    assert len(population_by_region) == len(win_loss_by_region), \"Q1: Your lists must be the same length\"\n",
    "    assert len(population_by_region) == 28, \"Q1: There should be 28 teams being analysed for NHL\"\n",
    "    \n",
    "    return stats.pearsonr(population_by_region, win_loss_by_region)\n",
    "    raise NotImplementedError()\n",
    "nhl_correlation()"
   ]
  },
  {
   "cell_type": "code",
   "execution_count": null,
   "metadata": {
    "deletable": false,
    "editable": false,
    "nbgrader": {
     "cell_type": "code",
     "checksum": "52a581df513c71153e105b93764cda4b",
     "grade": true,
     "grade_id": "cell-ebe0b2dfe1067e63",
     "locked": true,
     "points": 20,
     "schema_version": 3,
     "solution": false
    }
   },
   "outputs": [],
   "source": []
  },
  {
   "cell_type": "markdown",
   "metadata": {
    "deletable": false,
    "editable": false,
    "jp-MarkdownHeadingCollapsed": true,
    "nbgrader": {
     "cell_type": "markdown",
     "checksum": "988912cae4968d81473f46d783e79c16",
     "grade": false,
     "grade_id": "cell-cb964e690298b71d",
     "locked": true,
     "schema_version": 3,
     "solution": false
    },
    "tags": []
   },
   "source": [
    "## Question 2\n",
    "For this question, calculate the win/loss ratio's correlation with the population of the city it is in for the **NBA** using **2018** data."
   ]
  },
  {
   "cell_type": "code",
   "execution_count": 3,
   "metadata": {
    "deletable": false,
    "nbgrader": {
     "cell_type": "code",
     "checksum": "9394222aafc8ccab0a228098ba0d6010",
     "grade": false,
     "grade_id": "cell-5a5f21279e3d3572",
     "locked": false,
     "schema_version": 3,
     "solution": true
    }
   },
   "outputs": [
    {
     "data": {
      "text/plain": [
       "(-0.1763634967664775, 0.36932108848389705)"
      ]
     },
     "execution_count": 3,
     "metadata": {},
     "output_type": "execute_result"
    }
   ],
   "source": [
    "import pandas as pd\n",
    "import numpy as np\n",
    "import scipy.stats as stats\n",
    "import re\n",
    "\n",
    "\n",
    "\n",
    "def nba_correlation():\n",
    "    # YOUR CODE HERE\n",
    "    nba_df=pd.read_csv(\"assets/nba.csv\")\n",
    "    cities=pd.read_html(\"assets/wikipedia_data.html\")[1]\n",
    "    cities=cities.iloc[:-1,[0,3,5,6,7,8]]\n",
    "    NBA = cities.iloc[:-1,[0,1,4]]\n",
    "    NBA = NBA.rename(columns={'Metropolitan area':'local','Population (2016 est.)[8]':'population' ,'NBA':'team'})\n",
    "    regex = re.compile(r'\\s\\w+\\s\\(')\n",
    "    y = re.compile(r'^\\w+')\n",
    "    w = re.compile(r'\\[\\w+\\s\\w+\\]|\\W')\n",
    "    NBA[\"team\"] = NBA[\"team\"].replace({w:''}, regex=True)\n",
    "    NBA.drop(NBA[(NBA['team'] == \"\")].index, inplace=True)\n",
    "    nba = nba_df[(nba_df['year']) == 2018]\n",
    "    nba = nba.iloc[:,[0,3]]\n",
    "    nba[\"team\"] = nba[\"team\"].replace({'\\*':''}, regex=True)\n",
    "    nba[\"team\"] = nba[\"team\"].apply(lambda x: regex.findall(x)[0])\n",
    "    nba[\"team\"] = nba[\"team\"].replace({'\\(':''}, regex=True)\n",
    "    nba[\"team\"] = nba[\"team\"].replace({'\\s':''}, regex=True)\n",
    "    nba['team'] = nba['team'].replace({'Blazers':'TrailBlazers','Clippers':'LakersClippers'},regex=True)\n",
    "    nba.set_index(\"team\",drop=True, append=False, inplace=True, verify_integrity=False)\n",
    "    NBA.set_index(\"team\",drop=True, append=False, inplace=True, verify_integrity=False)\n",
    "    nba = nba.sort_values('team')\n",
    "    NBA = NBA.sort_values('team')\n",
    "    nba = nba.astype({'W/L%': 'float32'})\n",
    "    NBA = NBA.astype({'population': 'int32'})\n",
    "    e = pd.merge(NBA, nba, on='team', how='outer')\n",
    "    LA = [e.loc['LakersClippers']['local']\n",
    "         ,e.loc['LakersClippers']['population'],\n",
    "         (e.loc[['LakersClippers','Lakers']]['W/L%'].sum())/2]\n",
    "    NY = [e.loc['KnicksNets']['local'],\n",
    "          e.loc['KnicksNets']['population'],\n",
    "          (e.loc[['Knicks','Nets']]['W/L%'].sum())/2]\n",
    "    e.loc['KnicksNets'] = NY\n",
    "    e.loc['LakersClippers'] = LA\n",
    "    e = e.dropna()\n",
    "  \n",
    "    a = e['population']\n",
    "    b = e['W/L%']\n",
    "    population_by_region = a # pass in metropolitan area population from cities\n",
    "    win_loss_by_region = b # pass in win/loss ratio from nba_df in the same order as cities[\"Metropolitan area\"]\n",
    "\n",
    "    assert len(population_by_region) == len(win_loss_by_region), \"Q2: Your lists must be the same length\"\n",
    "    assert len(population_by_region) == 28, \"Q2: There should be 28 teams being analysed for NBA\"\n",
    "\n",
    "    return stats.pearsonr(population_by_region, win_loss_by_region)\n",
    "    raise NotImplementedError()\n",
    "nba_correlation()"
   ]
  },
  {
   "cell_type": "code",
   "execution_count": null,
   "metadata": {
    "deletable": false,
    "editable": false,
    "nbgrader": {
     "cell_type": "code",
     "checksum": "bbdeb8eb22f525a34c10dc8798324e42",
     "grade": true,
     "grade_id": "cell-e573b2b4a282b470",
     "locked": true,
     "points": 20,
     "schema_version": 3,
     "solution": false
    }
   },
   "outputs": [],
   "source": []
  },
  {
   "cell_type": "markdown",
   "metadata": {
    "deletable": false,
    "editable": false,
    "nbgrader": {
     "cell_type": "markdown",
     "checksum": "1a1a5809f675ca033086422007cd73bd",
     "grade": false,
     "grade_id": "cell-96e15e4335df78f4",
     "locked": true,
     "schema_version": 3,
     "solution": false
    },
    "tags": []
   },
   "source": [
    "## Question 3\n",
    "For this question, calculate the win/loss ratio's correlation with the population of the city it is in for the **MLB** using **2018** data."
   ]
  },
  {
   "cell_type": "code",
   "execution_count": 4,
   "metadata": {
    "deletable": false,
    "nbgrader": {
     "cell_type": "code",
     "checksum": "27e8c0da6c9fa0dffc10488314335b6c",
     "grade": false,
     "grade_id": "cell-33b00fc3f3467b0c",
     "locked": false,
     "schema_version": 3,
     "solution": true
    }
   },
   "outputs": [
    {
     "data": {
      "text/plain": [
       "(0.15003735842225893, 0.46442832119114447)"
      ]
     },
     "execution_count": 4,
     "metadata": {},
     "output_type": "execute_result"
    }
   ],
   "source": [
    "import pandas as pd\n",
    "import numpy as np\n",
    "import scipy.stats as stats\n",
    "import re\n",
    "\n",
    "def mlb_correlation(): \n",
    "    # YOUR CODE HERE\n",
    "    \n",
    "    mlb_df=pd.read_csv(\"assets/mlb.csv\")\n",
    "    cities=pd.read_html(\"assets/wikipedia_data.html\")[1]\n",
    "    cities=cities.iloc[:-1,[0,3,5,6,7,8]]\n",
    "    MLB = cities.iloc[:-1,[0,1,3]]\n",
    "    mlb = mlb_df[(mlb_df['year']) == 2018]\n",
    "    mlb = mlb.iloc[:,[0,3]]\n",
    "    w = re.compile(r'\\[\\w+\\s\\w+\\]|\\W')\n",
    "    regex = re.compile(r'\\w+$')\n",
    "    MLB = MLB.rename(columns={'Metropolitan area':'local','Population (2016 est.)[8]':'population' ,'MLB':'team'})\n",
    "    MLB[\"team\"] = MLB[\"team\"].replace({w:''}, regex=True)\n",
    "    MLB.drop(MLB[(MLB['team'] == \"\")].index, inplace=True)\n",
    "    mlb[\"team\"] = mlb[\"team\"].replace({'Boston Red Sox':'RedSox','Tampa Bay Rays':'Rays',\n",
    "                                       'Toronto Blue Jays':'BlueJays','Chicago White Sox':'WhiteSox',}, regex=True)\n",
    "    mlb[\"team\"] = mlb[\"team\"].apply(lambda x: regex.findall(x)[0])\n",
    "    mlb.set_index(\"team\", drop=True, append=False, inplace=True, verify_integrity=False)\n",
    "    MLB.set_index(\"team\",drop=True, append=False, inplace=True, verify_integrity=False)\n",
    "    MLB = MLB.astype({'population':'int32'})\n",
    "    mlb = mlb.astype({'W-L%': 'float32'})\n",
    "    c = pd.merge(MLB, mlb, on='team', how='outer')\n",
    "    NY = [c.loc[['YankeesMets']]['local'],c.loc[['YankeesMets']]['population'],(c.loc[['Yankees','Mets']]['W-L%'].sum())/2]\n",
    "    c.loc[['YankeesMets']]=NY\n",
    "    LA = [c.loc[['DodgersAngels']]['local'],c.loc[['DodgersAngels']]['population'],(c.loc[['Dodgers','Angels']]['W-L%'].sum())/2]\n",
    "    c.loc[['DodgersAngels']]=LA\n",
    "    SF = [c.loc[['GiantsAthletics']]['local'],c.loc[['GiantsAthletics']]['population'],(c.loc[['Giants','Athletics']]['W-L%'].sum())/2]\n",
    "    c.loc[['GiantsAthletics']]=SF\n",
    "    C=[c.loc[['CubsWhiteSox']]['local'],c.loc[['CubsWhiteSox']]['population'],(c.loc[['Cubs','WhiteSox']]['W-L%'].sum())/2]\n",
    "    c.loc[['CubsWhiteSox']]=C\n",
    "    c = c.dropna()\n",
    "\n",
    "    a = c['population']\n",
    "    b = c['W-L%']\n",
    "    population_by_region = a # pass in metropolitan area population from cities\n",
    "    win_loss_by_region = b # pass in win/loss ratio from mlb_df in the same order as cities[\"Metropolitan area\"]\n",
    "\n",
    "    assert len(population_by_region) == len(win_loss_by_region), \"Q3: Your lists must be the same length\"\n",
    "    assert len(population_by_region) == 26, \"Q3: There should be 26 teams being analysed for MLB\"\n",
    "\n",
    "    return stats.pearsonr(population_by_region, win_loss_by_region)\n",
    "    raise NotImplementedError()\n",
    "mlb_correlation()"
   ]
  },
  {
   "cell_type": "code",
   "execution_count": null,
   "metadata": {
    "deletable": false,
    "editable": false,
    "nbgrader": {
     "cell_type": "code",
     "checksum": "cda33b094ba19ccc37a481e0dd29e0bc",
     "grade": true,
     "grade_id": "cell-764d4476f425c5a2",
     "locked": true,
     "points": 20,
     "schema_version": 3,
     "solution": false
    }
   },
   "outputs": [],
   "source": []
  },
  {
   "cell_type": "markdown",
   "metadata": {
    "deletable": false,
    "editable": false,
    "nbgrader": {
     "cell_type": "markdown",
     "checksum": "6977a6da9ed6d8b7a0b7e37bbeda709b",
     "grade": false,
     "grade_id": "cell-793df6c04dfb126e",
     "locked": true,
     "schema_version": 3,
     "solution": false
    },
    "tags": []
   },
   "source": [
    "## Question 4\n",
    "For this question, calculate the win/loss ratio's correlation with the population of the city it is in for the **NFL** using **2018** data."
   ]
  },
  {
   "cell_type": "code",
   "execution_count": 5,
   "metadata": {
    "deletable": false,
    "nbgrader": {
     "cell_type": "code",
     "checksum": "c4914ad1e119278ec2bd567c52640b66",
     "grade": false,
     "grade_id": "cell-8ccebc209aeec8d9",
     "locked": false,
     "schema_version": 3,
     "solution": true
    }
   },
   "outputs": [
    {
     "data": {
      "text/plain": [
       "(0.004282119006786277, 0.9824115661872483)"
      ]
     },
     "execution_count": 5,
     "metadata": {},
     "output_type": "execute_result"
    }
   ],
   "source": [
    "import pandas as pd\n",
    "import numpy as np\n",
    "import scipy.stats as stats\n",
    "import re\n",
    "\n",
    "\n",
    "def nfl_correlation(): \n",
    "    # YOUR CODE HERE\n",
    "    nfl_df=pd.read_csv(\"assets/nfl.csv\")\n",
    "    cities=pd.read_html(\"assets/wikipedia_data.html\")[1]\n",
    "    cities=cities.iloc[:-1,[0,3,5,6,7,8]]\n",
    "    NFL = cities.iloc[:-1,[0,1,2]]\n",
    "    nfl = nfl_df[(nfl_df['year']) == 2018]\n",
    "    nfl = nfl.iloc[:,[12,13]]\n",
    "    NFL = NFL.rename(columns={'Metropolitan area':'local','Population (2016 est.)[8]':'population' ,'NFL':'team'})\n",
    "    w = re.compile(r'\\[\\w+\\s\\w+\\]|\\W')\n",
    "    regex = re.compile(r'\\w+$|\\w+\\*|\\w+\\+')\n",
    "    y = re.compile(r'\\w+\\s\\w+')\n",
    "    NFL[\"team\"] = NFL[\"team\"].replace({w:''}, regex=True)\n",
    "    NFL.drop(NFL[(NFL['team'] == \"\")].index, inplace=True)\n",
    "    nfl[\"team\"] = nfl[\"team\"].apply(lambda x: regex.findall(x)[0])\n",
    "    nfl[\"team\"] = nfl[\"team\"].replace({w:''}, regex=True)\n",
    "    nfl[\"W-L%\"] = nfl[\"W-L%\"].replace({y:''}, regex=True)\n",
    "    a= nfl.drop(nfl[(nfl['W-L%'] == \"\")].index, inplace=True)\n",
    "    nfl[\"W-L%\"] = nfl[\"W-L%\"].replace({'\\.':'0.'}, regex=True)\n",
    "    nfl = nfl.astype({'W-L%': 'float32'})\n",
    "    NFL = NFL.astype({'population':'int32'})\n",
    "    nfl.set_index(\"team\", drop=True, append=False, inplace=True, verify_integrity=False)\n",
    "    NFL.set_index(\"team\",drop=True, append=False, inplace=True, verify_integrity=False)\n",
    "    d = pd.merge(NFL, nfl, on='team', how='outer')\n",
    "    NY = [d.loc[['GiantsJets']]['local'],d.loc[['GiantsJets']]['population'],(d.loc[['Giants','Jets']]['W-L%'].sum())/2]\n",
    "    d.loc[['GiantsJets']]=NY\n",
    "    LA = [d.loc[['RamsChargers']]['local'],d.loc[['RamsChargers']]['population'],(d.loc[['Rams','Chargers']]['W-L%'].sum())/2]\n",
    "    d.loc[['RamsChargers']] = LA\n",
    "    SF = [d.loc[['49ersRaiders']]['local'],d.loc[['49ersRaiders']]['population'],(d.loc[['49ers','Raiders']]['W-L%'].sum())/2]\n",
    "    d.loc[['49ersRaiders']] = SF\n",
    "    d = d.dropna()\n",
    "    a = d['population']\n",
    "    b = d['W-L%']\n",
    "    \n",
    "    \n",
    "    population_by_region = a # pass in metropolitan area population from cities\n",
    "    win_loss_by_region = b # pass in win/loss ratio from nfl_df in the same order as cities[\"Metropolitan area\"]\n",
    "\n",
    "    assert len(population_by_region) == len(win_loss_by_region), \"Q4: Your lists must be the same length\"\n",
    "    assert len(population_by_region) == 29, \"Q4: There should be 29 teams being analysed for NFL\"\n",
    "\n",
    "    return stats.pearsonr(population_by_region, win_loss_by_region)\n",
    "    raise NotImplementedError()\n",
    "nfl_correlation()"
   ]
  },
  {
   "cell_type": "code",
   "execution_count": null,
   "metadata": {
    "deletable": false,
    "editable": false,
    "nbgrader": {
     "cell_type": "code",
     "checksum": "e9415d6399aa49e3a1a60813afdefa3b",
     "grade": true,
     "grade_id": "cell-de7b148b9554dbda",
     "locked": true,
     "points": 20,
     "schema_version": 3,
     "solution": false
    }
   },
   "outputs": [],
   "source": []
  },
  {
   "cell_type": "markdown",
   "metadata": {
    "deletable": false,
    "editable": false,
    "nbgrader": {
     "cell_type": "markdown",
     "checksum": "b02d5cd3273f561e4ae939bb2a41740c",
     "grade": false,
     "grade_id": "cell-97b49d8639e908c4",
     "locked": true,
     "schema_version": 3,
     "solution": false
    }
   },
   "source": [
    "## Question 5\n",
    "In this question I would like you to explore the hypothesis that **given that an area has two sports teams in different sports, those teams will perform the same within their respective sports**. How I would like to see this explored is with a series of paired t-tests (so use [`ttest_rel`](https://docs.scipy.org/doc/scipy/reference/generated/scipy.stats.ttest_rel.html)) between all pairs of sports. Are there any sports where we can reject the null hypothesis? Again, average values where a sport has multiple teams in one region. Remember, you will only be including, for each sport, cities which have teams engaged in that sport, drop others as appropriate. This question is worth 20% of the grade for this assignment."
   ]
  },
  {
   "cell_type": "code",
   "execution_count": null,
   "metadata": {
    "deletable": false,
    "nbgrader": {
     "cell_type": "code",
     "checksum": "6d78c961eb66f8d8c81f06d33ae8f393",
     "grade": false,
     "grade_id": "cell-92f25f44b8d1179f",
     "locked": false,
     "schema_version": 3,
     "solution": true
    }
   },
   "outputs": [],
   "source": [
    "import pandas as pd\n",
    "import numpy as np\n",
    "import scipy.stats as stats\n",
    "import re\n",
    "nfl_df=pd.read_csv(\"assets/nfl.csv\")\n",
    "nba_df=pd.read_csv(\"assets/nba.csv\")\n",
    "nhl_df=pd.read_csv(\"assets/nhl.csv\")\n",
    "mlb_df=pd.read_csv(\"assets/mlb.csv\")\n",
    "cities=pd.read_html(\"assets/wikipedia_data.html\")[1]\n",
    "cities=cities.iloc[:-1,[0,3,5,6,7,8]]\n",
    "NFL = cities.iloc[:-1,[0,1,2]]\n",
    "MLB = cities.iloc[:-1,[0,1,3]]\n",
    "NHL = cities.iloc[:-1,[0,1,5]]\n",
    "NBA = cities.iloc[:-1,[0,1,4]]\n",
    "NFL = NFL.rename(columns={'Metropolitan area':'local','Population (2016 est.)[8]':'population'})\n",
    "MLB = MLB.rename(columns={'Metropolitan area':'local','Population (2016 est.)[8]':'population'})\n",
    "NBA = NBA.rename(columns={'Metropolitan area':'local','Population (2016 est.)[8]':'population'})\n",
    "NHL = NHL.rename(columns={'Metropolitan area':'local','Population (2016 est.)[8]':'population'})\n",
    "w = re.compile(r'\\[\\w+\\s\\w+\\]|\\W')\n",
    "NFL[\"NFL\"] = NFL[\"NFL\"].replace({w:''}, regex=True)\n",
    "MLB[\"MLB\"] = MLB[\"MLB\"].replace({w:''}, regex=True)\n",
    "NHL[\"NHL\"] = NHL[\"NHL\"].replace({w:''}, regex=True)\n",
    "NBA[\"NBA\"] = NBA[\"NBA\"].replace({w:''}, regex=True)\n",
    "NFL.drop(NFL[(NFL['NFL'] == \"\")].index, inplace=True)\n",
    "MLB.drop(MLB[(MLB['MLB'] == \"\")].index, inplace=True)\n",
    "NHL.drop(NHL[(NHL['NHL'] == \"\")].index, inplace=True)\n",
    "NBA.drop(NBA[(NBA['NBA'] == \"\")].index, inplace=True)\n",
    "mlb = mlb_df[(mlb_df['year']) == 2018]\n",
    "mlb = mlb.iloc[:,[0,3]]\n",
    "nfl = nfl_df[(nfl_df['year']) == 2018]\n",
    "nfl = nfl.iloc[:,[12,13]]\n",
    "nba = nba_df[(nba_df['year']) == 2018]\n",
    "nba = nba.iloc[:,[0,3]]\n",
    "nhl = nhl_df[(nhl_df['year']) == 2018]\n",
    "#Limpieza NHL\n",
    "nr = re.compile(r'\\w+$|\\w+\\*$')\n",
    "nhl[\"team\"] = nhl[\"team\"].replace({'\\*':''}, regex=True)\n",
    "nhl[\"team\"] = nhl[\"team\"].apply(lambda x: nr.findall(x)[0])\n",
    "nhl[\"team\"] = nhl[\"team\"].replace({'Jackets':'BlueJackets','Leafs':'MapleLeafs',\n",
    "                                   'Knights':'GoldenKnights','Ducks':'KingsDucks',\n",
    "                                   'Wings':'RedWings'}, regex=True)\n",
    "nhl = nhl.rename(columns={'team':'NHL'})\n",
    "y = re.compile(r'^\\w+')\n",
    "NHL[\"NHL\"] = NHL[\"NHL\"].apply(lambda x: y.findall(x)[0])\n",
    "WR = pd.pivot_table(nhl,index=[\"NHL\"],values=['W', 'L' ],aggfunc=np.sum)\n",
    "WR = WR.sort_values('NHL')\n",
    "WR = WR.drop(['Division'], axis=0)\n",
    "WR = WR.astype({'W': 'int32', 'L': 'int32'})\n",
    "WR[\"WinRate\"] = WR['W'] / (WR['W']+WR['L'])\n",
    "nhl.set_index(\"NHL\", drop=True, append=False, inplace=True, verify_integrity=False)\n",
    "NHL.set_index(\"NHL\",drop=True, append=False, inplace=True, verify_integrity=False)\n",
    "f = pd.merge(WR, NHL, on='NHL', how='outer')\n",
    "Vn = [f.loc[['Devils','Islanders','Rangers']]['L'].sum(),f.loc[['Devils','Islanders','Rangers']]['W'].sum(),\n",
    "    f.loc[['Devils','Islanders','Rangers']]['WinRate'].sum(),f.loc[['RangersIslandersDevils']]['local'],\n",
    "    f.loc[['RangersIslandersDevils']]['population']]\n",
    "f.loc[['RangersIslandersDevils']]=Vn\n",
    "Vla =[f.loc[['Kings','KingsDucks']]['L'].sum(),f.loc[['Kings','KingsDucks']]['W'].sum(),\n",
    "    f.loc[['Kings','KingsDucks']]['WinRate'].sum(),f.loc[['KingsDucks']]['local'],\n",
    "    f.loc[['KingsDucks']]['population']]\n",
    "f.loc[['KingsDucks']]=Vla\n",
    "f = f.dropna()\n",
    "f = f.astype({'population':'int32'})\n",
    "f = f.iloc[:,[2,3,4]]\n",
    "f = f.reset_index()\n",
    "f.set_index(\"local\",drop=True, append=False, inplace=True, verify_integrity=False)\n",
    "#Limpieza NBA\n",
    "rnba = re.compile(r'\\s\\w+\\s\\(')\n",
    "nba[\"team\"] = nba[\"team\"].replace({'\\*':''}, regex=True)\n",
    "nba[\"team\"] = nba[\"team\"].apply(lambda x: rnba.findall(x)[0])\n",
    "nba[\"team\"] = nba[\"team\"].replace({'\\(':''}, regex=True)\n",
    "nba[\"team\"] = nba[\"team\"].replace({'\\s':''}, regex=True)\n",
    "nba['team'] = nba['team'].replace({'Blazers':'TrailBlazers','Clippers':'LakersClippers'},regex=True)\n",
    "nba = nba.rename(columns={'team':'NBA'})\n",
    "nba.set_index(\"NBA\",drop=True, append=False, inplace=True, verify_integrity=False)\n",
    "NBA.set_index(\"NBA\",drop=True, append=False, inplace=True, verify_integrity=False)\n",
    "nba = nba.sort_values('NBA')\n",
    "NBA = NBA.sort_values('NBA')\n",
    "nba = nba.astype({'W/L%': 'float32'})\n",
    "NBA = NBA.astype({'population': 'int32'})\n",
    "e = pd.merge(NBA, nba, on='NBA', how='outer')\n",
    "LA = [e.loc['LakersClippers']['local']\n",
    "     ,e.loc['LakersClippers']['population'],\n",
    "     (e.loc[['LakersClippers','Lakers']]['W/L%'].sum())/2]\n",
    "NY = [e.loc['KnicksNets']['local'],\n",
    "    e.loc['KnicksNets']['population'],\n",
    "    (e.loc[['Knicks','Nets']]['W/L%'].sum())/2]\n",
    "e.loc['KnicksNets'] = NY\n",
    "e.loc['LakersClippers'] = LA\n",
    "e = e.dropna()\n",
    "e = e.reset_index()\n",
    "e.set_index(\"local\",drop=True, append=False, inplace=True, verify_integrity=False)\n",
    "#Limpieza MLB\n",
    "rmlb = re.compile(r'\\w+$')\n",
    "mlb[\"team\"] = mlb[\"team\"].replace({'Boston Red Sox':'RedSox','Tampa Bay Rays':'Rays',\n",
    "                                   'Toronto Blue Jays':'BlueJays','Chicago White Sox':'WhiteSox',}, regex=True)\n",
    "mlb[\"team\"] = mlb[\"team\"].apply(lambda x: rmlb.findall(x)[0])\n",
    "mlb = mlb.rename(columns={'team':'MLB'})\n",
    "mlb.set_index(\"MLB\", drop=True, append=False, inplace=True, verify_integrity=False)\n",
    "MLB.set_index(\"MLB\",drop=True, append=False, inplace=True, verify_integrity=False)\n",
    "MLB = MLB.astype({'population':'int32'})\n",
    "mlb = mlb.astype({'W-L%': 'float32'})\n",
    "c = pd.merge(MLB, mlb, on='MLB', how='outer')\n",
    "NY = [c.loc[['YankeesMets']]['local'],\n",
    "      c.loc[['YankeesMets']]['population'],\n",
    "      (c.loc[['Yankees','Mets']]['W-L%'].sum())/2]\n",
    "c.loc[['YankeesMets']]=NY\n",
    "LA = [c.loc[['DodgersAngels']]['local'],\n",
    "      c.loc[['DodgersAngels']]['population'],\n",
    "      (c.loc[['Dodgers','Angels']]['W-L%'].sum())/2]\n",
    "c.loc[['DodgersAngels']]=LA\n",
    "SF = [c.loc[['GiantsAthletics']]['local'],\n",
    "      c.loc[['GiantsAthletics']]['population'],\n",
    "      (c.loc[['Giants','Athletics']]['W-L%'].sum())/2]\n",
    "c.loc[['GiantsAthletics']]=SF\n",
    "C=[c.loc[['CubsWhiteSox']]['local'],\n",
    "   c.loc[['CubsWhiteSox']]['population'],\n",
    "   (c.loc[['Cubs','WhiteSox']]['W-L%'].sum())/2]\n",
    "c.loc[['CubsWhiteSox']]=C\n",
    "c = c.dropna()\n",
    "c = c.reset_index()\n",
    "c.set_index(\"local\",drop=True, append=False, inplace=True, verify_integrity=False)\n",
    "#limpieza NFL\n",
    "rnfl = re.compile(r'\\w+$|\\w+\\*|\\w+\\+')\n",
    "y = re.compile(r'\\w+\\s\\w+')\n",
    "nfl[\"team\"] = nfl[\"team\"].apply(lambda x: rnfl.findall(x)[0])\n",
    "nfl[\"team\"] = nfl[\"team\"].replace({w:''}, regex=True)\n",
    "nfl[\"W-L%\"] = nfl[\"W-L%\"].replace({y:''}, regex=True)\n",
    "a= nfl.drop(nfl[(nfl['W-L%'] == \"\")].index, inplace=True)\n",
    "nfl[\"W-L%\"] = nfl[\"W-L%\"].replace({'\\.':'0.'}, regex=True)\n",
    "nfl = nfl.astype({'W-L%': 'float32'})\n",
    "NFL = NFL.astype({'population':'int32'})\n",
    "nfl = nfl.rename(columns={'team':'NFL'})\n",
    "nfl.set_index(\"NFL\", drop=True, append=False, inplace=True, verify_integrity=False)\n",
    "NFL.set_index(\"NFL\",drop=True, append=False, inplace=True, verify_integrity=False)\n",
    "d = pd.merge(NFL, nfl, on='NFL', how='outer')\n",
    "NY = [d.loc[['GiantsJets']]['local'],\n",
    "      d.loc[['GiantsJets']]['population'],\n",
    "      (d.loc[['Giants','Jets']]['W-L%'].sum())/2]\n",
    "d.loc[['GiantsJets']]=NY\n",
    "LA = [d.loc[['RamsChargers']]['local'],\n",
    "      d.loc[['RamsChargers']]['population'],\n",
    "      (d.loc[['Rams','Chargers']]['W-L%'].sum())/2]\n",
    "d.loc[['RamsChargers']] = LA\n",
    "SF = [d.loc[['49ersRaiders']]['local'],\n",
    "      d.loc[['49ersRaiders']]['population'],\n",
    "      (d.loc[['49ers','Raiders']]['W-L%'].sum())/2]\n",
    "d.loc[['49ersRaiders']] = SF\n",
    "d = d.dropna()\n",
    "d = d.reset_index()\n",
    "d.set_index(\"local\",drop=True, append=False, inplace=True, verify_integrity=False)\n",
    "fd = pd.merge(d, f, on='local', suffixes=('_1', '_2'))\n",
    "print(f,d)\n",
    "def sports_team_performance():\n",
    "    # YOUR CODE HERE\n",
    "    raise NotImplementedError()\n",
    "    \n",
    "    # Note: p_values is a full dataframe, so df.loc[\"NFL\",\"NBA\"] should be the same as df.loc[\"NBA\",\"NFL\"] and\n",
    "    # df.loc[\"NFL\",\"NFL\"] should return np.nan\n",
    "    sports = ['NFL', 'NBA', 'NHL', 'MLB']\n",
    "    p_values = pd.DataFrame({k:np.nan for k in sports}, index=sports)\n",
    "    \n",
    "    assert abs(p_values.loc[\"NBA\", \"NHL\"] - 0.02) <= 1e-2, \"The NBA-NHL p-value should be around 0.02\"\n",
    "    assert abs(p_values.loc[\"MLB\", \"NFL\"] - 0.80) <= 1e-2, \"The MLB-NFL p-value should be around 0.80\"\n",
    "    return p_values"
   ]
  },
  {
   "cell_type": "code",
   "execution_count": null,
   "metadata": {
    "deletable": false,
    "editable": false,
    "nbgrader": {
     "cell_type": "code",
     "checksum": "2a596ab421a45cc01168d10e8fbb8f89",
     "grade": true,
     "grade_id": "cell-fb4b9cb5ff4570a6",
     "locked": true,
     "points": 20,
     "schema_version": 3,
     "solution": false
    }
   },
   "outputs": [],
   "source": []
  },
  {
   "cell_type": "code",
   "execution_count": null,
   "metadata": {},
   "outputs": [],
   "source": []
  },
  {
   "cell_type": "code",
   "execution_count": null,
   "metadata": {},
   "outputs": [],
   "source": []
  }
 ],
 "metadata": {
  "coursera": {
   "schema_names": [
    "mooc_adswpy_v1_assignment4"
   ]
  },
  "kernelspec": {
   "display_name": "Python 3 (ipykernel)",
   "language": "python",
   "name": "python3"
  },
  "language_info": {
   "codemirror_mode": {
    "name": "ipython",
    "version": 3
   },
   "file_extension": ".py",
   "mimetype": "text/x-python",
   "name": "python",
   "nbconvert_exporter": "python",
   "pygments_lexer": "ipython3",
   "version": "3.8.10"
  }
 },
 "nbformat": 4,
 "nbformat_minor": 4
}
